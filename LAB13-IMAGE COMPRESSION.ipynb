{
 "cells": [
  {
   "cell_type": "markdown",
   "id": "1f725403",
   "metadata": {},
   "source": [
    "# Types of Image Compression\n",
    "\n",
    "Mainly, there are two types of image compression: **lossy** and **lossless**.\n",
    "\n",
    "## Lossy Compression\n",
    "Lossy compression is a type of compression where some data is lost during the compression process. This means that when you decompress the image, it will not be identical to the original image. However, the degree of difference is often not noticeable to the human eye. Examples of lossy compression include **JPEG** and **GIF**.\n",
    "\n",
    "## Lossless Compression\n",
    "Lossless compression is a type of compression where no data is lost during the compression process. This means that when you decompress the image, it will be identical to the original image. Examples of lossless compression include **PNG** and **TIFF**.\n"
   ]
  },
  {
   "cell_type": "markdown",
   "id": "9a35a510",
   "metadata": {},
   "source": [
    "# How to Compress Images using Python and PIL\n",
    "\n",
    "## Step 1: Install PIL\n",
    "\n",
    "The first step is to install the PIL library. For that, you can use pip. Open a terminal or command prompt and type the following command:\n",
    "\n",
    "```bash\n",
    "pip install pillow\n"
   ]
  },
  {
   "cell_type": "code",
   "execution_count": 1,
   "id": "a1d76dc0",
   "metadata": {},
   "outputs": [
    {
     "name": "stdout",
     "output_type": "stream",
     "text": [
      "Requirement already satisfied: Pillow in c:\\users\\joelb\\appdata\\local\\packages\\pythonsoftwarefoundation.python.3.10_qbz5n2kfra8p0\\localcache\\local-packages\\python310\\site-packages (9.4.0)\n"
     ]
    }
   ],
   "source": [
    "!pip install Pillow"
   ]
  },
  {
   "cell_type": "markdown",
   "id": "4094cd6f",
   "metadata": {},
   "source": [
    "## Step 2: Import the Required Libraries\n",
    "\n",
    "### After installing PIL, you need to import the required libraries into your Python program. For that, add the following lines of code at the beginning of your Python file:"
   ]
  },
  {
   "cell_type": "code",
   "execution_count": 2,
   "id": "aed3530c",
   "metadata": {},
   "outputs": [],
   "source": [
    "from PIL import Image\n",
    "import os"
   ]
  },
  {
   "cell_type": "markdown",
   "id": "29da66e1",
   "metadata": {},
   "source": [
    "## Step 3: Load the Image\n",
    "\n",
    "### Now after importing the required libraries let's load the image we want to compress. For that, we can use the Image.open() method from the PIL library."
   ]
  },
  {
   "cell_type": "code",
   "execution_count": 7,
   "id": "21b29696",
   "metadata": {},
   "outputs": [],
   "source": [
    "image = Image.open('image.png')"
   ]
  },
  {
   "cell_type": "markdown",
   "id": "3157de9b",
   "metadata": {},
   "source": [
    "## Step 4: Resize the Image\n",
    "\n",
    "### After loading the image, we need to resize it to reduce its file size. For that, we can use the resize() method from the Image module"
   ]
  },
  {
   "cell_type": "code",
   "execution_count": 8,
   "id": "e91cc2b0",
   "metadata": {},
   "outputs": [],
   "source": [
    "width, height = image.size\n",
    "new_size = (width//2, height//2)\n",
    "resized_image = image.resize(new_size)"
   ]
  },
  {
   "cell_type": "markdown",
   "id": "13e00f7a",
   "metadata": {},
   "source": [
    "## Step 5: Save the Compressed Image\n",
    "\n",
    "### After resizing the image, we need to save the compressed image. To do this, we can use the save() method from the Image module."
   ]
  },
  {
   "cell_type": "code",
   "execution_count": 10,
   "id": "9c2c531c",
   "metadata": {},
   "outputs": [],
   "source": [
    "resized_image.save('compressed_image.png', optimize=True, quality=50)"
   ]
  },
  {
   "cell_type": "markdown",
   "id": "0a50349f",
   "metadata": {},
   "source": [
    "### After compressing the image, we need to save it as a new file. This code saves the compressed image as a file named 'compressed_image.jpg'. We can use the 'optimize' parameter to make sure that the image is optimized for web use. Additionally, we can adjust the quality of the image using the 'quality' parameter according to our needs."
   ]
  },
  {
   "cell_type": "markdown",
   "id": "f0e9ed16",
   "metadata": {},
   "source": [
    "## Step 6: Verify the Compressed Image"
   ]
  },
  {
   "cell_type": "code",
   "execution_count": 11,
   "id": "51734f9c",
   "metadata": {},
   "outputs": [
    {
     "name": "stdout",
     "output_type": "stream",
     "text": [
      "Original Size:  5724\n",
      "Compressed Size:  3343\n"
     ]
    }
   ],
   "source": [
    "original_size = os.path.getsize('image.png')\n",
    "compressed_size = os.path.getsize('compressed_image.png')\n",
    "\n",
    "print(\"Original Size: \", original_size)\n",
    "print(\"Compressed Size: \", compressed_size)"
   ]
  },
  {
   "cell_type": "code",
   "execution_count": null,
   "id": "957cefd1",
   "metadata": {},
   "outputs": [],
   "source": []
  }
 ],
 "metadata": {
  "kernelspec": {
   "display_name": "Python 3 (ipykernel)",
   "language": "python",
   "name": "python3"
  },
  "language_info": {
   "codemirror_mode": {
    "name": "ipython",
    "version": 3
   },
   "file_extension": ".py",
   "mimetype": "text/x-python",
   "name": "python",
   "nbconvert_exporter": "python",
   "pygments_lexer": "ipython3",
   "version": "3.10.11"
  }
 },
 "nbformat": 4,
 "nbformat_minor": 5
}
